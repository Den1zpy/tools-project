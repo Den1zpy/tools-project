{
 "cells": [
  {
   "cell_type": "markdown",
   "id": "1b946365",
   "metadata": {},
   "source": [
    "# NOTEBOOK"
   ]
  },
  {
   "cell_type": "markdown",
   "id": "5e7c9867",
   "metadata": {},
   "source": [
    "In this notebook,data science and tools and Ecosystem are summarized."
   ]
  },
  {
   "cell_type": "markdown",
   "id": "6ae6fe04",
   "metadata": {},
   "source": [
    "Some of the popular languages that data scientist use are :\n",
    "\n",
    "\n",
    "  1.Python\n",
    "  \n",
    "  2.R\n",
    "  \n",
    "  3.SQL\n",
    "  \n",
    "  4.Scala\n",
    "  \n",
    "  5.Java\n",
    "  \n",
    "  6.C++\n",
    " "
   ]
  },
  {
   "cell_type": "markdown",
   "id": "b8cf0c9a",
   "metadata": {},
   "source": [
    "Some of the commonly used libraries used by data scientist include :\n",
    "\n",
    "1-Pandas\n",
    "\n",
    "2-Numpy\n",
    "\n",
    "3-Seaborn\n",
    "\n",
    "4-Matplotlib\n",
    "\n",
    "5-Vegas\n"
   ]
  },
  {
   "cell_type": "markdown",
   "id": "aebe167e",
   "metadata": {},
   "source": [
    "| **Data Scientist Araçları** | \n",
    "| --- |\n",
    "| Anaconda |\n",
    "| Jupyter Notebook |\n",
    "| R Studio |\n",
    "| Spyder |\n",
    "| Zeppelin | \n"
   ]
  },
  {
   "cell_type": "markdown",
   "id": "21408982",
   "metadata": {},
   "source": [
    "below are a few examples of evaluating arithmetic expressions in python "
   ]
  },
  {
   "cell_type": "code",
   "execution_count": 10,
   "id": "6a67728c",
   "metadata": {},
   "outputs": [
    {
     "name": "stdout",
     "output_type": "stream",
     "text": [
      "7\n",
      "12\n"
     ]
    }
   ],
   "source": [
    "#This is a simple addition and multiplication operations\n",
    "\n",
    "x=4+3\n",
    "\n",
    "y=4*3\n",
    "print(x)\n",
    "print(y)"
   ]
  },
  {
   "cell_type": "code",
   "execution_count": 6,
   "id": "6a75fe94",
   "metadata": {},
   "outputs": [
    {
     "data": {
      "text/plain": [
       "3.3333333333333335"
      ]
     },
     "execution_count": 6,
     "metadata": {},
     "output_type": "execute_result"
    }
   ],
   "source": [
    "#This will convert 200 minutes to hours by diving by 60\n",
    "200/60"
   ]
  },
  {
   "cell_type": "markdown",
   "id": "ff2ef12d",
   "metadata": {},
   "source": [
    "**OBJECTIVES**\n",
    "\n",
    "-Add comments to code\n",
    "\n",
    "-Create markdown cells\n",
    "\n",
    "-Add ordered or unordered list to markdown cells\n"
   ]
  },
  {
   "cell_type": "markdown",
   "id": "a333afb0",
   "metadata": {},
   "source": [
    "**Author:**\n",
    "\n",
    " Deniz İrmeneli\n"
   ]
  }
 ],
 "metadata": {
  "kernelspec": {
   "display_name": "Python 3 (ipykernel)",
   "language": "python",
   "name": "python3"
  },
  "language_info": {
   "codemirror_mode": {
    "name": "ipython",
    "version": 3
   },
   "file_extension": ".py",
   "mimetype": "text/x-python",
   "name": "python",
   "nbconvert_exporter": "python",
   "pygments_lexer": "ipython3",
   "version": "3.9.12"
  }
 },
 "nbformat": 4,
 "nbformat_minor": 5
}
